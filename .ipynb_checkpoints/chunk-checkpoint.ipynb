{
 "cells": [
  {
   "cell_type": "markdown",
   "metadata": {},
   "source": [
    "# Homework: Phrasal Chunking"
   ]
  },
  {
   "cell_type": "markdown",
   "metadata": {},
   "source": [
    "This is your documentation for the chunker homework."
   ]
  },
  {
   "cell_type": "code",
   "execution_count": null,
   "metadata": {},
   "outputs": [
    {
     "name": "stderr",
     "output_type": "stream",
     "text": [
      "reading data ...\n",
      "done.\n"
     ]
    },
    {
     "name": "stdout",
     "output_type": "stream",
     "text": [
      "8936\n"
     ]
    }
   ],
   "source": [
    "import perc\n",
    "import default\n",
    "import sys\n",
    "from collections import defaultdict\n",
    "\n",
    "feat_vec = {}\n",
    "tagset = []\n",
    "train_data = []\n",
    "\n",
    "def get_tag(labeled_list, i):\n",
    "    return labeled_list[i].split()[2]\n",
    "\n",
    "def add_weight(weights, features, tag, number):\n",
    "    for f in features:\n",
    "        key = (f, tag)\n",
    "        if key not in weights:\n",
    "            weights[key] = 0\n",
    "        weights[key] += number\n",
    "\n",
    "def perc_train(train_data, tagset, numepochs):\n",
    "    #print(train_data[0])\n",
    "    print(len(train_data))\n",
    "    assert len(train_data[0]) == 2\n",
    "    labeled_list, feat_list = train_data[0][0], train_data[0][1]\n",
    "    weights = {}\n",
    "    for x in range(10):\n",
    "        for i in range(100):\n",
    "            lebeled_list, feat_list = train_data[i]\n",
    "            weights = perc_train_single(labeled_list, feat_list, tagset, weights)\n",
    "    # print(weights)\n",
    "    return weights\n",
    "\n",
    "def perc_train_single(labeled_list, feat_list, tagset, weights):\n",
    "    #print(feat_list)\n",
    "    #print(labeled_list)\n",
    "    #print(labeled_list)\n",
    "    out = perc.perc_test(weights, labeled_list, feat_list, tagset, tagset[0])\n",
    "    assert len(out) == len(labeled_list)\n",
    "    feat_index = 0\n",
    "    for i in range(len(labeled_list)):\n",
    "        right_tag = get_tag(labeled_list, i)\n",
    "        tag = out[i]\n",
    "        feat_index, feats = perc.feats_for_word(feat_index, feat_list)\n",
    "        if tag != right_tag:\n",
    "            add_weight(weights, feats, right_tag, +1)\n",
    "            add_weight(weights, feats, tag, -1)\n",
    "            \n",
    "        # for each tag fix the weights of all features pertaining to that tag\n",
    "        \n",
    "        \n",
    "    # print(out)\n",
    "    #print(out)\n",
    "    # feat_vec = defaultdict(int)\n",
    "    # insert your code here\n",
    "    # please limit the number of iterations of training to n iterations\n",
    "    printed_weights = {}\n",
    "    for key, value in weights.items():\n",
    "        if value != 0:\n",
    "            printed_weights[key] = value\n",
    "    #print(printed_weights)\n",
    "    \n",
    "    return weights\n",
    "    return feat_vec\n",
    "\n",
    "tagset = perc.read_tagset(\"data/tagset.txt\")\n",
    "print(\"reading data ...\", file=sys.stderr)\n",
    "train_data = perc.read_labeled_data(\"data/train.txt.gz\", \"data/train.feats.gz\", verbose=False)\n",
    "print(\"done.\", file=sys.stderr)\n",
    "feat_vec = perc_train(train_data, tagset, 5)\n",
    "perc.perc_write_to_file(feat_vec, \"default.model\")\n",
    "print(\"wrote model to disk\")"
   ]
  },
  {
   "cell_type": "code",
   "execution_count": null,
   "metadata": {},
   "outputs": [],
   "source": [
    "%%capture --no-stderr output\n",
    "print(\"reading test data ...\", file=sys.stderr)\n",
    "test_data = perc.read_labeled_data(\"data/dev.txt\", \"data/dev.feats\", verbose=False)\n",
    "print(\"done.\", file=sys.stderr)\n",
    "feat_vec = perc.perc_read_from_file(\"default.model\")\n",
    "perc.perc_testall(feat_vec, test_data, tagset)"
   ]
  },
  {
   "cell_type": "code",
   "execution_count": null,
   "metadata": {},
   "outputs": [],
   "source": [
    "import score_chunks\n",
    "boundary = \"-X-\" # something to use as boundary between sentences\n",
    "outside = \"O\" # tag used to mark the outside of any chunk\n",
    "conlleval = False # use conlleval (should be False for most use cases)\n",
    "numfeats = 2 # number of columns to consider as features, typically \"word POStag\"\n",
    "(test, _) = score_chunks.readTestFile(str(output), boundary, outside, conlleval, numfeats)\n",
    "with open(\"data/reference500.txt\") as f:\n",
    "    (reference, _) = score_chunks.readTestFile(f.read(), boundary, outside, conlleval, numfeats)\n",
    "print(\"Score: %.2f\" % score_chunks.corpus_fmeasure(reference, test, False))"
   ]
  }
 ],
 "metadata": {
  "kernelspec": {
   "display_name": "Python 3",
   "language": "python",
   "name": "python3"
  },
  "language_info": {
   "codemirror_mode": {
    "name": "ipython",
    "version": 3
   },
   "file_extension": ".py",
   "mimetype": "text/x-python",
   "name": "python",
   "nbconvert_exporter": "python",
   "pygments_lexer": "ipython3",
   "version": "3.7.0"
  }
 },
 "nbformat": 4,
 "nbformat_minor": 2
}
